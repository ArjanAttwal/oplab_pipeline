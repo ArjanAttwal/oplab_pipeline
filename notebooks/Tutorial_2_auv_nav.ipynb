{
 "cells": [
  {
   "cell_type": "markdown",
   "metadata": {},
   "source": [
    "# Tutorial 2: AUV navigation\n",
    "\n",
    "In this tutorial you are going to learn:\n",
    " - how to work with auv_nav and what options are available\n",
    " - how to use the help menu available in the Command Line Interface (CLI)\n",
    " - how to process your own dataset with auv_nav to obtain a fused navigation solution\n",
    "  \n",
    " To call our AUV navigation preprocessing software, you just need to write __auv_nav__ in a bash shell. You can also run it here:"
   ]
  },
  {
   "cell_type": "code",
   "execution_count": 1,
   "metadata": {},
   "outputs": [
    {
     "name": "stdout",
     "output_type": "stream",
     "text": [
      "  @@@@    @@@@      ___________________________ \n",
      " @@@@@@  @@@@@@    |                           |\n",
      "  @@@@    @@@@     |    - OCEAN PERCEPTION -   |\n",
      "                   |                           |\n",
      "  @@@@      @      | University of Southampton |\n",
      " @@@@@@   @@@@     |___________________________|\n",
      "  @@@@   @@@@@@                                 \n",
      "                                                \n",
      " Copyright (C) 2019 University of Southampton   \n",
      " This program comes with ABSOLUTELY NO WARRANTY.\n",
      " This is free software, and you are welcome to  \n",
      " redistribute it.                               \n",
      "                                                \n",
      "\u001b[94m[INFO]: \u001b[0mRunning auv_nav version 0.0.3.0\n"
     ]
    },
    {
     "name": "stderr",
     "output_type": "stream",
     "text": [
      "usage: auv_nav [-h] {parse,process,convert} ...\n",
      "\n",
      "positional arguments:\n",
      "  {parse,process,convert}\n",
      "    parse               Parse raw data and converting it to an intermediate\n",
      "                        dataformat for further processing. Type auv_nav parse\n",
      "                        -h for help on this target.\n",
      "    process             Process and/or convert data. Data needs to be saved in\n",
      "                        the intermediate data format generated using\n",
      "                        auv_nav.py parse. Type auv_nav process -h for help on\n",
      "                        this target.\n",
      "    convert             Converts data from oplab nav_standard.json into your\n",
      "                        specified output format. Type auv_nav convert -h for\n",
      "                        help on this target.\n",
      "\n",
      "optional arguments:\n",
      "  -h, --help            show this help message and exit\n"
     ]
    }
   ],
   "source": [
    "%%bash --no-raise-error\n",
    "auv_nav"
   ]
  },
  {
   "cell_type": "markdown",
   "metadata": {},
   "source": [
    "## auv_nav workflow\n",
    "As you can see, there are three processing possibilities with auv_nav:\n",
    " - __parse__: Reads the raw AUV navigation and sensor data and collates it into a standarised middle format in a file called *nav_standard.json*. This JSON file contains all sensor data ordered in time. At the end of this process you will see an informative table with the number of measurements read and a timeseries plot to spot any wrong time offset or timezone.\n",
    " - __process__: Reads the intermediate JSON file and produces a Dead Reckoning (DR) solution, as well as a fused solution from separate processes: an Extended Kalman Filter (EKF) and a Particle Filter (PF). At the end of this process you will see a set of interactive graphs showing the 2D navigation and the different velocities, depth, orientation and altitude vs time. The output of the processing step is a set of folders containing CSV navigation files for the vehicle, as well as for the cameras, if any. These files will be vital in the following processing pipelines developed by *ocean_perception*. \n",
    " - __convert__: These optional step converts the JSON file into other formats, such as ACFR processing pipeline. If you need any other intermediate format, you can raise an issue in github or submit a pull request for us. \n",
    " \n",
    "All these options have their own help menu, which can be called by following the argument with a `-h`. See the example below."
   ]
  },
  {
   "cell_type": "code",
   "execution_count": 2,
   "metadata": {},
   "outputs": [
    {
     "name": "stdout",
     "output_type": "stream",
     "text": [
      "  @@@@    @@@@      ___________________________ \n",
      " @@@@@@  @@@@@@    |                           |\n",
      "  @@@@    @@@@     |    - OCEAN PERCEPTION -   |\n",
      "                   |                           |\n",
      "  @@@@      @      | University of Southampton |\n",
      " @@@@@@   @@@@     |___________________________|\n",
      "  @@@@   @@@@@@                                 \n",
      "                                                \n",
      " Copyright (C) 2019 University of Southampton   \n",
      " This program comes with ABSOLUTELY NO WARRANTY.\n",
      " This is free software, and you are welcome to  \n",
      " redistribute it.                               \n",
      "                                                \n",
      "\u001b[94m[INFO]: \u001b[0mRunning auv_nav version 0.0.3.0\n",
      "usage: auv_nav parse [-h] [-F] path\n",
      "\n",
      "positional arguments:\n",
      "  path         Folderpath where the (raw) input data is. Needs to be a\n",
      "               subfolder of 'raw' and contain the mission.yaml configuration\n",
      "               file.\n",
      "\n",
      "optional arguments:\n",
      "  -h, --help   show this help message and exit\n",
      "  -F, --Force  Force file overwite\n"
     ]
    }
   ],
   "source": [
    "%%bash --no-raise-error\n",
    "auv_nav parse -h"
   ]
  },
  {
   "cell_type": "markdown",
   "metadata": {},
   "source": [
    "## Example workflow\n",
    "You are going to use *auv_nav* on the dataset you just download on Tutorial 1. We want you to work on the example dive dataset called `YYYYMMDD_hhmmss_platform_sensor_data`, which should be under `raw/year/cruise/platform` in your folder structure.\n",
    "\n",
    "<div class=\"alert alert-warning\">\n",
    "<b>Note:</b> Please make sure to change the <font color=\"blue\">dive_path</font> to a dive folder path in your computer.\n",
    "</div>"
   ]
  },
  {
   "cell_type": "code",
   "execution_count": 1,
   "metadata": {},
   "outputs": [
    {
     "name": "stdout",
     "output_type": "stream",
     "text": [
      "[SUCCESS]: The provided folder is valid!\n"
     ]
    }
   ],
   "source": [
    "dive_path = '/data/dives/raw/year/cruise/platform/YYYYMMDD_hhmmss_platform_sensor_data'\n",
    "\n",
    "# We're going to check that the folder you provided is valid\n",
    "from auv_nav.tools.folder_structure import valid_dive\n",
    "if valid_dive(dive_path):\n",
    "    print(\"[SUCCESS]: The provided folder is valid!\")\n",
    "else:\n",
    "    print(\"[ ERROR ]: The provided folder is NOT valid. Check the path, it has to contain a mission and a vehicle yaml.\")"
   ]
  },
  {
   "cell_type": "markdown",
   "metadata": {},
   "source": [
    "### Parsing\n",
    "\n",
    "Now, call the *parse* step of auv_nav and explore its outputs:\n",
    "\n",
    "<div class=\"alert alert-warning\">\n",
    "<b>Note:</b> If you call this script on a dive that has already been parsed, it will not overwrite the files unless you provide it the flag <b>-F</b>\n",
    "</div>"
   ]
  },
  {
   "cell_type": "code",
   "execution_count": 8,
   "metadata": {},
   "outputs": [
    {
     "name": "stdout",
     "output_type": "stream",
     "text": [
      "  @@@@    @@@@      ___________________________ \n",
      " @@@@@@  @@@@@@    |                           |\n",
      "  @@@@    @@@@     |    - OCEAN PERCEPTION -   |\n",
      "                   |                           |\n",
      "  @@@@      @      | University of Southampton |\n",
      " @@@@@@   @@@@     |___________________________|\n",
      "  @@@@   @@@@@@                                 \n",
      "                                                \n",
      " Copyright (C) 2019 University of Southampton   \n",
      " This program comes with ABSOLUTELY NO WARRANTY.\n",
      " This is free software, and you are welcome to  \n",
      " redistribute it.                               \n",
      "                                                \n",
      "\u001b[94m[INFO]: \u001b[0mRunning auv_nav version 0.0.3.0\n",
      "\u001b[94m[INFO]: \u001b[0mLoading mission.yaml at /data/dives/raw/year/cruise/platform/YYYYMMDD_hhmmss_platform_sensor_data/mission.yaml\n",
      "\u001b[94m[INFO]: \u001b[0mLoading vehicle.yaml at /data/dives/raw/year/cruise/platform/YYYYMMDD_hhmmss_platform_sensor_data/vehicle.yaml\n",
      "\u001b[93m[WARN]: \u001b[0mDepth standard deviation offset not provided. Using default of 0.01\n",
      "\u001b[93m[WARN]: \u001b[0mAltitude standard deviation offset not provided. Using default of 0.01\n",
      "\u001b[94m[INFO]: \u001b[0mLoading raw data...\n",
      "\u001b[94m[INFO]: \u001b[0m... parsing seaxerocks_3images\n",
      "\u001b[94m[INFO]: \u001b[0m... parsing ae2000 logs\n",
      "\u001b[94m[INFO]: \u001b[0m... parsing ae2000 logs\n",
      "\u001b[94m[INFO]: \u001b[0m... parsing ae2000 logs\n",
      "\u001b[94m[INFO]: \u001b[0m... parsing ae2000 logs\n",
      "\u001b[94m[INFO]: \u001b[0m377 GAPS file(s) found\n",
      "\u001b[94m[INFO]: \u001b[0m  ...done parsing ae2000 logs.\n",
      "\u001b[94m[INFO]: \u001b[0m  ...done parsing ae2000 logs.\n",
      "\u001b[94m[INFO]: \u001b[0m  ...done parsing ae2000 logs.\n",
      "\u001b[94m[INFO]: \u001b[0m  ...done parsing ae2000 logs.\n",
      "\u001b[94m[INFO]: \u001b[0m...done loading raw data.\n",
      "\u001b[94m[INFO]: \u001b[0mCompile data list...\n",
      "\u001b[94m[INFO]: \u001b[0m...done compiling data list.\n",
      "\u001b[94m[INFO]: \u001b[0mWriting to output file...\n",
      "\u001b[94m[INFO]: \u001b[0mInterlacing data...\n",
      "\u001b[94m[INFO]: \u001b[0m...done interlacing data. Output saved to /data/dives/processed/year/cruise/platform/YYYYMMDD_hhmmss_platform_sensor_data/nav/nav_standard.json\n",
      "Loading json file\n",
      "Creating table\n",
      "/home/miquel/.local/lib/python3.6/site-packages/plotly/graph_objs/_deprecations.py:410: DeprecationWarning:\n",
      "\n",
      "plotly.graph_objs.Margin is deprecated.\n",
      "Please replace it with one of the following more specific types\n",
      "  - plotly.graph_objs.layout.Margin\n",
      "\n",
      "\n",
      "Start time is: 2018-08-02 16:40:58 (GMT), 2018-08-02 15:40:58 (UTC), 1533224458 (epoch)\n",
      "Finish time is:                           2018-08-06 03:28:22 (GMT), 2018-08-06 02:28:22 (UTC), 1533522502 (epoch)\n",
      "\n",
      "+--------------+-------------+------------------------------+-----------------------------------------------------------------------------------------+\n",
      "|   Category   | No. of data |           Details            | Sample Value                                                                            |\n",
      "+--------------+-------------+------------------------------+-----------------------------------------------------------------------------------------+\n",
      "|     usbl     |     5062    |       epoch_timestamp        | 1533224458.264                                                                          |\n",
      "|              |             |            class             | measurement                                                                             |\n",
      "|              |             |            sensor            | gaps                                                                                    |\n",
      "|              |             |            frame             | inertial                                                                                |\n",
      "|              |             |           category           | usbl                                                                                    |\n",
      "|              |             |          data_ship           | {'latitude': 44.672255193500284, 'longitude': -125.11874781483372}                      |\n",
      "|              |             |                              | {'northings': 11272.120552850967, 'eastings': 2394.8773975609133}                       |\n",
      "|              |             |                              | {'heading': 327.36062501001356}                                                         |\n",
      "|              |             |         data_target          | {'latitude': 44.672306, 'latitude_std': -2.443237833205103e-05}                         |\n",
      "|              |             |                              | {'longitude': -125.117843, 'longitude_std': -3.4356680828295794e-05}                    |\n",
      "|              |             |                              | {'northings': 11277.803261009978, 'northings_std': 2.7197999157944723}                  |\n",
      "|              |             |                              | {'eastings': 2466.5037975717946, 'eastings_std': 2.7197999157944723}                    |\n",
      "|              |             |                              | {'depth': 4.3, 'depth_std': 2.7197999157944723}                                         |\n",
      "|              |             |                              | {'distance_to_ship': 71.97999157944726}                                                 |\n",
      "|              |             | Approximate update rate (Hz) | 0.24820054333871575                                                                     |\n",
      "+--------------+-------------+------------------------------+-----------------------------------------------------------------------------------------+\n",
      "|   velocity   |    75584    |       epoch_timestamp        | 1533501853.974                                                                          |\n",
      "|              |             |     epoch_timestamp_dvl      | 1533501853.974                                                                          |\n",
      "|              |             |            class             | measurement                                                                             |\n",
      "|              |             |            sensor            | ae20000                                                                                 |\n",
      "|              |             |            frame             | body                                                                                    |\n",
      "|              |             |           category           | velocity                                                                                |\n",
      "|              |             |             data             | {'x_velocity': 1.083, 'x_velocity_std': 0.201083}                                       |\n",
      "|              |             |                              | {'y_velocity': 0.074, 'y_velocity_std': 0.200074}                                       |\n",
      "|              |             |                              | {'z_velocity': 0.24493, 'z_velocity_std': 0.20024493000000002}                          |\n",
      "|              |             | Approximate update rate (Hz) | 4.0160630880271775                                                                      |\n",
      "+--------------+-------------+------------------------------+-----------------------------------------------------------------------------------------+\n",
      "|   velocity   |    75584    |       epoch_timestamp        | 1533501853.974                                                                          |\n",
      "|              |             |            class             | measurement                                                                             |\n",
      "|              |             |            sensor            | ae20000                                                                                 |\n",
      "|              |             |            frame             | inertial                                                                                |\n",
      "|              |             |           category           | velocity                                                                                |\n",
      "|              |             |             data             | {'north_velocity': -0.809824, 'north_velocity_std': 0.200809824}                        |\n",
      "|              |             |                              | {'east_velocity': 0.699655, 'east_velocity_std': 0.200699655}                           |\n",
      "|              |             |                              | {'down_velocity': -9999.0, 'down_velocity_std': -9999.0}                                |\n",
      "|              |             | Approximate update rate (Hz) | 4.0160630880271775                                                                      |\n",
      "+--------------+-------------+------------------------------+-----------------------------------------------------------------------------------------+\n",
      "| orientation  |    75584    |       epoch_timestamp        | 1533501853.974                                                                          |\n",
      "|              |             |            class             | measurement                                                                             |\n",
      "|              |             |            sensor            | ae20000                                                                                 |\n",
      "|              |             |            frame             | body                                                                                    |\n",
      "|              |             |           category           | orientation                                                                             |\n",
      "|              |             |             data             | {'heading': 135.21, 'heading_std': -9999.0}                                             |\n",
      "|              |             |                              | {'roll': -1.01, 'roll_std': -9999.0}                                                    |\n",
      "|              |             |                              | {'pitch': -9.73, 'pitch_std': -9999.0}                                                  |\n",
      "|              |             | Approximate update rate (Hz) | 4.0160630880271775                                                                      |\n",
      "+--------------+-------------+------------------------------+-----------------------------------------------------------------------------------------+\n",
      "| angular_rate |    75584    |       epoch_timestamp        | 1533501853.974                                                                          |\n",
      "|              |             |            class             | measurement                                                                             |\n",
      "|              |             |            sensor            | ae20000                                                                                 |\n",
      "|              |             |            frame             | body                                                                                    |\n",
      "|              |             |           category           | angular_rate                                                                            |\n",
      "|              |             |             data             | {'heading_rate': 2.8, 'heading_rate_std': -9999.0}                                      |\n",
      "|              |             |                              | {'roll_rate': -0.16, 'roll_rate_std': -9999.0}                                          |\n",
      "|              |             |                              | {'pitch_rate': 0.8, 'pitch_rate_std': -9999.0}                                          |\n",
      "|              |             | Approximate update rate (Hz) | 4.0160630880271775                                                                      |\n",
      "+--------------+-------------+------------------------------+-----------------------------------------------------------------------------------------+\n",
      "|    depth     |    75584    |       epoch_timestamp        | 1533501853.974                                                                          |\n",
      "|              |             |    epoch_timestamp_depth     | 1533501853.974                                                                          |\n",
      "|              |             |            class             | measurement                                                                             |\n",
      "|              |             |            sensor            | ae20000                                                                                 |\n",
      "|              |             |            frame             | inertial                                                                                |\n",
      "|              |             |           category           | depth                                                                                   |\n",
      "|              |             |             data             | {'depth': 598.747469, 'depth_std': 0.0698747469}                                        |\n",
      "|              |             | Approximate update rate (Hz) | 4.0160630880271775                                                                      |\n",
      "+--------------+-------------+------------------------------+-----------------------------------------------------------------------------------------+\n",
      "|   altitude   |    75584    |       epoch_timestamp        | 1533501853.974                                                                          |\n",
      "|              |             |     epoch_timestamp_dvl      | 1533501853.974                                                                          |\n",
      "|              |             |            class             | measurement                                                                             |\n",
      "|              |             |            sensor            | ae20000                                                                                 |\n",
      "|              |             |            frame             | body                                                                                    |\n",
      "|              |             |           category           | altitude                                                                                |\n",
      "|              |             |             data             | {'altitude': 182.97716100000002, 'altitude_std': 1.8397716100000003}                    |\n",
      "|              |             |                              | {'sound_velocity': -9999.0, 'sound_velocity_correction': -9999.0}                       |\n",
      "|              |             | Approximate update rate (Hz) | 4.0160630880271775                                                                      |\n",
      "+--------------+-------------+------------------------------+-----------------------------------------------------------------------------------------+\n",
      "|    laser     |    250244   |       epoch_timestamp        | 1533504300.363                                                                          |\n",
      "|              |             |            class             | measurement                                                                             |\n",
      "|              |             |            sensor            | seaxerocks_3                                                                            |\n",
      "|              |             |            frame             | body                                                                                    |\n",
      "|              |             |           category           | laser                                                                                   |\n",
      "|              |             |            serial            | laser                                                                                   |\n",
      "|              |             |           filename           | 000/image0000000.xxx                                                                    |\n",
      "|              |             | Approximate update rate (Hz) | 15.624968335096634                                                                      |\n",
      "+--------------+-------------+------------------------------+-----------------------------------------------------------------------------------------+\n",
      "|    image     |     330     |       epoch_timestamp        | 1533518018.846                                                                          |\n",
      "|              |             |            class             | measurement                                                                             |\n",
      "|              |             |            sensor            | seaxerocks_3                                                                            |\n",
      "|              |             |            frame             | body                                                                                    |\n",
      "|              |             |           category           | image                                                                                   |\n",
      "|              |             |           camera1            | [{'epoch_timestamp': 1533518018.846, 'serial': 'fore', 'filename': 'fore/0003421.raw'}] |\n",
      "|              |             |           camera2            | [{'epoch_timestamp': 1533518018.846, 'serial': 'aft', 'filename': 'aft/0003421.raw'}]   |\n",
      "|              |             | Approximate update rate (Hz) | 0.24894199899706318                                                                     |\n",
      "+--------------+-------------+------------------------------+-----------------------------------------------------------------------------------------+\n",
      "Outputs saved to /data/dives/processed/year/cruise/platform/YYYYMMDD_hhmmss_platform_sensor_data/nav\n"
     ]
    },
    {
     "name": "stdout",
     "output_type": "stream",
     "text": [
      "\u001b[94m[INFO]: \u001b[0mComplete parse data\r\n"
     ]
    }
   ],
   "source": [
    "!{'auv_nav parse -F ' + dive_path}"
   ]
  },
  {
   "cell_type": "markdown",
   "metadata": {},
   "source": [
    "When finished, the parse step will write a `nav_standard.json` file with all the sensor measurements ordered in time and two HTML plots. Run the next cell to have a look at the sensor timestamps and to an informative table about the number of sensor measurements parsed."
   ]
  },
  {
   "cell_type": "code",
   "execution_count": 5,
   "metadata": {},
   "outputs": [
    {
     "name": "stdout",
     "output_type": "stream",
     "text": [
      "The json file is at /data/dives/processed/year/cruise/platform/YYYYMMDD_hhmmss_platform_sensor_data/nav/nav_standard.json\n"
     ]
    }
   ],
   "source": [
    "from auv_nav.tools.folder_structure import get_processed_folder\n",
    "from auv_nav.parse_data import check_output_files_exist\n",
    "\n",
    "processed_dive_path = get_processed_folder(dive_path)\n",
    "json_file = processed_dive_path / 'nav' / 'nav_standard.json'\n",
    "data_plot_file = processed_dive_path / 'nav' / 'json_data_info.html'\n",
    "history_plot_file = processed_dive_path / 'nav' / 'timestamp_history.html'\n",
    "\n",
    "%mkdir -p plots\n",
    "!{'ln -s ' + str(data_plot_file) +' plots/json_data_info.html'}\n",
    "!{'ln -s ' + str(history_plot_file) +' plots/timestamp_history.html'}\n",
    "\n",
    "if json_file.exists():\n",
    "    print('The json file is at '+ str(json_file))\n",
    "else:\n",
    "    print('[ERROR]: The dataset has not been parsed yet.')"
   ]
  },
  {
   "cell_type": "code",
   "execution_count": 9,
   "metadata": {},
   "outputs": [
    {
     "data": {
      "text/html": [
       "\n",
       "        <iframe\n",
       "            width=\"1280\"\n",
       "            height=\"1024\"\n",
       "            src=\"plots/json_data_info.html\"\n",
       "            frameborder=\"0\"\n",
       "            allowfullscreen\n",
       "        ></iframe>\n",
       "        "
      ],
      "text/plain": [
       "<IPython.lib.display.IFrame at 0x7f3d38d44fd0>"
      ]
     },
     "execution_count": 9,
     "metadata": {},
     "output_type": "execute_result"
    }
   ],
   "source": [
    "from IPython.display import IFrame\n",
    "IFrame(\"plots/json_data_info.html\", 1280, 1024)"
   ]
  },
  {
   "cell_type": "code",
   "execution_count": 12,
   "metadata": {},
   "outputs": [
    {
     "data": {
      "text/html": [
       "\n",
       "        <iframe\n",
       "            width=\"800\"\n",
       "            height=\"600\"\n",
       "            src=\"plots/timestamp_history.html\"\n",
       "            frameborder=\"0\"\n",
       "            allowfullscreen\n",
       "        ></iframe>\n",
       "        "
      ],
      "text/plain": [
       "<IPython.lib.display.IFrame at 0x7f3d38d44cf8>"
      ]
     },
     "execution_count": 12,
     "metadata": {},
     "output_type": "execute_result"
    }
   ],
   "source": [
    "IFrame('plots/timestamp_history.html', 800, 600)"
   ]
  },
  {
   "cell_type": "markdown",
   "metadata": {},
   "source": [
    "## Processing the navigation\n",
    "As you can see in the previous graphs,\n",
    "\n",
    "Now, to process the navigation it is the same workflow, but with process instead of parse. Run the following cell:\n",
    "\n",
    "<div class=\"alert alert-warning\">\n",
    "<b>Note:</b> If you call this script on a dive that has already been processed, it will not overwrite the files unless you provide it the flag <b>-F</b>\n",
    "</div>"
   ]
  },
  {
   "cell_type": "code",
   "execution_count": null,
   "metadata": {},
   "outputs": [
    {
     "name": "stdout",
     "output_type": "stream",
     "text": [
      "  @@@@    @@@@      ___________________________ \n",
      " @@@@@@  @@@@@@    |                           |\n",
      "  @@@@    @@@@     |    - OCEAN PERCEPTION -   |\n",
      "                   |                           |\n",
      "  @@@@      @      | University of Southampton |\n",
      " @@@@@@   @@@@     |___________________________|\n",
      "  @@@@   @@@@@@                                 \n",
      "                                                \n",
      " Copyright (C) 2019 University of Southampton   \n",
      " This program comes with ABSOLUTELY NO WARRANTY.\n",
      " This is free software, and you are welcome to  \n",
      " redistribute it.                               \n",
      "                                                \n",
      "\u001b[94m[INFO]: \u001b[0mRunning auv_nav version 0.0.3.0\n",
      "\u001b[94m[INFO]: \u001b[0mLoading existing auv_nav.yaml at /data/dives/configuration/year/cruise/platform/YYYYMMDD_hhmmss_platform_sensor_data/auv_nav.yaml\n",
      "\u001b[94m[INFO]: \u001b[0mLoading vehicle.yaml\n",
      "\u001b[94m[INFO]: \u001b[0mUsing camera fore mounted at fore\n",
      "\u001b[94m[INFO]: \u001b[0mUsing camera aft mounted at aft\n",
      "\u001b[94m[INFO]: \u001b[0mUsing camera laser mounted at laser\n",
      "\u001b[94m[INFO]: \u001b[0mLoading mission.yaml\n",
      "\u001b[94m[INFO]: \u001b[0mUsing camera fore mounted at fore\n",
      "\u001b[94m[INFO]: \u001b[0mUsing camera aft mounted at aft\n",
      "\u001b[94m[INFO]: \u001b[0mUsing camera laser mounted at laser\n",
      "\u001b[94m[INFO]: \u001b[0mLoading json file /data/dives/processed/year/cruise/platform/YYYYMMDD_hhmmss_platform_sensor_data/nav/nav_standard.json\n",
      "\u001b[94m[INFO]: \u001b[0mParsing has found:\n",
      "\u001b[94m[INFO]: \u001b[0m\t* Velocity_body: 75584 elements\n",
      "\u001b[94m[INFO]: \u001b[0m\t* Velocity_inertial: 75584 elements\n",
      "\u001b[94m[INFO]: \u001b[0m\t* Orientation: 75584 elements\n",
      "\u001b[94m[INFO]: \u001b[0m\t* Depth: 75584 elements\n",
      "\u001b[94m[INFO]: \u001b[0m\t* Altitude: 75584 elements\n",
      "\u001b[94m[INFO]: \u001b[0m\t* Usbl: 5062 elements\n",
      "\u001b[94m[INFO]: \u001b[0mWriting outputs to: /data/dives/processed/year/cruise/platform/YYYYMMDD_hhmmss_platform_sensor_data/json_renav_20180802_154058_20180806_022822\n",
      "\u001b[94m[INFO]: \u001b[0mWriting raw sensor to velocity_body_raw.csv ...\n",
      "\u001b[94m[INFO]: \u001b[0mWriting raw sensor to orientation_raw.csv ...\n",
      "\u001b[94m[INFO]: \u001b[0mWriting raw sensor to altitude_raw.csv ...\n",
      "\u001b[94m[INFO]: \u001b[0mWriting raw sensor to depth_raw.csv ...\n",
      "\u001b[94m[INFO]: \u001b[0mWriting raw sensor to camera3_raw.csv ...\n",
      "\u001b[94m[INFO]: \u001b[0mWriting raw sensor to usbl_raw.csv ...\n",
      "\u001b[94m[INFO]: \u001b[0mDiscarding USBL measurements before DR...\n",
      "\u001b[94m[INFO]: \u001b[0mDiscarding USBL measurements after DR...\n",
      "\u001b[94m[INFO]: \u001b[0m1926 remain of 5062 USBL measurements after depth filtering\n",
      "\u001b[94m[INFO]: \u001b[0m1894 remain of 5062 USBL measurements after distance filter\n",
      "\u001b[94m[INFO]: \u001b[0mComplete interpolation and coordinate transfomations for velocity_body\n",
      "\u001b[94m[INFO]: \u001b[0mComplete interpolation and coordinate transfomations for velocity_inertial\n",
      "\u001b[94m[INFO]: \u001b[0mRunning PF...\n",
      "\u001b[94m[INFO]: \u001b[0mRunning Particle Filter with:\n",
      "\u001b[94m[INFO]: \u001b[0m\t* Number of particles: 300\n",
      "\u001b[94m[INFO]: \u001b[0m\t* DVL noise std: f(x)=0.001x+0.002 m/s\n",
      "\u001b[94m[INFO]: \u001b[0m\t* IMU noise std: f(x)=0.0x+0.003 deg\n",
      "\u001b[94m[INFO]: \u001b[0m\t* Depth noise std: f(x)=0x+0.01 meters\n",
      "\u001b[94m[INFO]: \u001b[0m\t* USBL noise std: f(x)=0.01x+10.0 meters\n",
      "\u001b[94m[INFO]: \u001b[0mRunning 75584 iterations...\n",
      "Progress: |███████████████████████████████████████-----------| 78.6% Complete\r"
     ]
    }
   ],
   "source": [
    "!{'auv_nav process -F ' + str(dive_path)}"
   ]
  },
  {
   "cell_type": "code",
   "execution_count": null,
   "metadata": {},
   "outputs": [],
   "source": []
  }
 ],
 "metadata": {
  "kernelspec": {
   "display_name": "Python 3",
   "language": "python",
   "name": "python3"
  },
  "language_info": {
   "codemirror_mode": {
    "name": "ipython",
    "version": 3
   },
   "file_extension": ".py",
   "mimetype": "text/x-python",
   "name": "python",
   "nbconvert_exporter": "python",
   "pygments_lexer": "ipython3",
   "version": "3.6.9"
  }
 },
 "nbformat": 4,
 "nbformat_minor": 2
}
