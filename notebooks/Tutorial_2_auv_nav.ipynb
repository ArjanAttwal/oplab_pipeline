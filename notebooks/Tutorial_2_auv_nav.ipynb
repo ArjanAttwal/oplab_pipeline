{
 "cells": [
  {
   "cell_type": "markdown",
   "metadata": {},
   "source": [
    "# Tutorial 2: AUV navigation\n",
    "\n",
    "In this tutorial you are going to learn:\n",
    " - how to work with auv_nav and what options are available\n",
    " - how to use the help menu available in the Command Line Interface (CLI)\n",
    " - how to process your own dataset with auv_nav to obtain a fused navigation solution\n",
    "  \n",
    " To call our AUV navigation preprocessing software, you just need to write __auv_nav__ in a bash shell. You can also run it here:"
   ]
  },
  {
   "cell_type": "code",
   "execution_count": 1,
   "metadata": {},
   "outputs": [
    {
     "name": "stdout",
     "output_type": "stream",
     "text": [
      "  @@@@    @@@@      ___________________________ \n",
      " @@@@@@  @@@@@@    |                           |\n",
      "  @@@@    @@@@     |    - OCEAN PERCEPTION -   |\n",
      "                   |                           |\n",
      "  @@@@      @      | University of Southampton |\n",
      " @@@@@@   @@@@     |___________________________|\n",
      "  @@@@   @@@@@@                                 \n",
      "                                                \n",
      " Copyright (C) 2019 University of Southampton   \n",
      " This program comes with ABSOLUTELY NO WARRANTY.\n",
      " This is free software, and you are welcome to  \n",
      " redistribute it.                               \n",
      "                                                \n",
      "\u001b[94m[INFO]: \u001b[0mRunning auv_nav version 0.0.3.0\n"
     ]
    },
    {
     "name": "stderr",
     "output_type": "stream",
     "text": [
      "usage: auv_nav [-h] {parse,process,convert} ...\n",
      "\n",
      "positional arguments:\n",
      "  {parse,process,convert}\n",
      "    parse               Parse raw data and converting it to an intermediate\n",
      "                        dataformat for further processing. Type auv_nav parse\n",
      "                        -h for help on this target.\n",
      "    process             Process and/or convert data. Data needs to be saved in\n",
      "                        the intermediate data format generated using\n",
      "                        auv_nav.py parse. Type auv_nav process -h for help on\n",
      "                        this target.\n",
      "    convert             Converts data from oplab nav_standard.json into your\n",
      "                        specified output format. Type auv_nav convert -h for\n",
      "                        help on this target.\n",
      "\n",
      "optional arguments:\n",
      "  -h, --help            show this help message and exit\n"
     ]
    }
   ],
   "source": [
    "%%bash --no-raise-error\n",
    "auv_nav"
   ]
  },
  {
   "cell_type": "markdown",
   "metadata": {},
   "source": [
    "## auv_nav workflow\n",
    "As you can see, there are three processing possibilities with auv_nav:\n",
    " - __parse__: Reads the raw AUV navigation and sensor data and collates it into a standarised middle format in a file called *nav_standard.json*. This JSON file contains all sensor data ordered in time. At the end of this process you will see an informative table with the number of measurements read and a timeseries plot to spot any wrong time offset or timezone.\n",
    " - __process__: Reads the intermediate JSON file and produces a Dead Reckoning (DR) solution, as well as a fused solution from separate processes: an Extended Kalman Filter (EKF) and a Particle Filter (PF). At the end of this process you will see a set of interactive graphs showing the 2D navigation and the different velocities, depth, orientation and altitude vs time. The output of the processing step is a set of folders containing CSV navigation files for the vehicle, as well as for the cameras, if any. These files will be vital in the following processing pipelines developed by *ocean_perception*. \n",
    " - __convert__: These optional step converts the JSON file into other formats, such as ACFR processing pipeline. If you need any other intermediate format, you can raise an issue in github or submit a pull request for us. \n",
    " \n",
    "All these options have their own help menu, which can be called by following the argument with a `-h`. See the example below."
   ]
  },
  {
   "cell_type": "code",
   "execution_count": 2,
   "metadata": {},
   "outputs": [
    {
     "name": "stdout",
     "output_type": "stream",
     "text": [
      "  @@@@    @@@@      ___________________________ \n",
      " @@@@@@  @@@@@@    |                           |\n",
      "  @@@@    @@@@     |    - OCEAN PERCEPTION -   |\n",
      "                   |                           |\n",
      "  @@@@      @      | University of Southampton |\n",
      " @@@@@@   @@@@     |___________________________|\n",
      "  @@@@   @@@@@@                                 \n",
      "                                                \n",
      " Copyright (C) 2019 University of Southampton   \n",
      " This program comes with ABSOLUTELY NO WARRANTY.\n",
      " This is free software, and you are welcome to  \n",
      " redistribute it.                               \n",
      "                                                \n",
      "\u001b[94m[INFO]: \u001b[0mRunning auv_nav version 0.0.3.0\n",
      "usage: auv_nav parse [-h] [-F] path\n",
      "\n",
      "positional arguments:\n",
      "  path         Folderpath where the (raw) input data is. Needs to be a\n",
      "               subfolder of 'raw' and contain the mission.yaml configuration\n",
      "               file.\n",
      "\n",
      "optional arguments:\n",
      "  -h, --help   show this help message and exit\n",
      "  -F, --Force  Force file overwite\n"
     ]
    }
   ],
   "source": [
    "%%bash --no-raise-error\n",
    "auv_nav parse -h"
   ]
  },
  {
   "cell_type": "markdown",
   "metadata": {},
   "source": [
    "## Example workflow\n",
    "You are going to use *auv_nav* on the dataset you just download on Tutorial 1. We want you to work on the example dive dataset called `YYYYMMDD_hhmmss_platform_sensor_data`, which should be under `raw/year/cruise/platform` in your folder structure.\n",
    "\n",
    "<div class=\"alert alert-warning\">\n",
    "<b>Note:</b> Please make sure to change the <font color=\"blue\">dive_path</font> to a dive folder path in your computer.\n",
    "</div>"
   ]
  },
  {
   "cell_type": "code",
   "execution_count": 6,
   "metadata": {},
   "outputs": [
    {
     "ename": "ImportError",
     "evalue": "cannot import name 'valid_dive'",
     "output_type": "error",
     "traceback": [
      "\u001b[0;31m----------------------------------------------------------------------\u001b[0m",
      "\u001b[0;31mImportError\u001b[0m                          Traceback (most recent call last)",
      "\u001b[0;32m<ipython-input-6-37bbdb89e7d9>\u001b[0m in \u001b[0;36m<module>\u001b[0;34m\u001b[0m\n\u001b[1;32m      2\u001b[0m \u001b[0;34m\u001b[0m\u001b[0m\n\u001b[1;32m      3\u001b[0m \u001b[0;31m# We're going to check that the folder you provided is valid\u001b[0m\u001b[0;34m\u001b[0m\u001b[0;34m\u001b[0m\u001b[0;34m\u001b[0m\u001b[0m\n\u001b[0;32m----> 4\u001b[0;31m \u001b[0;32mfrom\u001b[0m \u001b[0mauv_nav\u001b[0m\u001b[0;34m.\u001b[0m\u001b[0mtools\u001b[0m\u001b[0;34m.\u001b[0m\u001b[0mfolder_structure\u001b[0m \u001b[0;32mimport\u001b[0m \u001b[0mvalid_dive\u001b[0m\u001b[0;34m\u001b[0m\u001b[0;34m\u001b[0m\u001b[0m\n\u001b[0m\u001b[1;32m      5\u001b[0m \u001b[0;32mif\u001b[0m \u001b[0mvalid_dive\u001b[0m\u001b[0;34m(\u001b[0m\u001b[0mdive_path\u001b[0m\u001b[0;34m)\u001b[0m\u001b[0;34m:\u001b[0m\u001b[0;34m\u001b[0m\u001b[0;34m\u001b[0m\u001b[0m\n\u001b[1;32m      6\u001b[0m     \u001b[0mprint\u001b[0m\u001b[0;34m(\u001b[0m\u001b[0;34m\"[SUCCESS]: The provided folder is valid!\"\u001b[0m\u001b[0;34m)\u001b[0m\u001b[0;34m\u001b[0m\u001b[0;34m\u001b[0m\u001b[0m\n",
      "\u001b[0;31mImportError\u001b[0m: cannot import name 'valid_dive'"
     ]
    }
   ],
   "source": [
    "dive_path = '/data/dives/raw/year/cruise/platform/YYYYMMDD_hhmmss_platform_sensor_data'\n",
    "\n",
    "# We're going to check that the folder you provided is valid\n",
    "from auv_nav.tools.folder_structure import valid_dive\n",
    "if valid_dive(dive_path):\n",
    "    print(\"[SUCCESS]: The provided folder is valid!\")\n",
    "else:\n",
    "    print(\"[ ERROR ]: The provided folder is NOT valid. Check the path, it has to contain a mission and a vehicle yaml.\")"
   ]
  },
  {
   "cell_type": "markdown",
   "metadata": {},
   "source": [
    "### Parsing\n",
    "\n",
    "Now, call the *parse* step of auv_nav and explore its outputs:\n",
    "\n",
    "<div class=\"alert alert-warning\">\n",
    "<b>Note:</b> If you call this script on a dive that has already been parsed, it will not overwrite the files unless you provide it the flag <b>-F</b>\n",
    "</div>"
   ]
  },
  {
   "cell_type": "code",
   "execution_count": 10,
   "metadata": {},
   "outputs": [
    {
     "name": "stdout",
     "output_type": "stream",
     "text": [
      "  @@@@    @@@@      ___________________________ \n",
      " @@@@@@  @@@@@@    |                           |\n",
      "  @@@@    @@@@     |    - OCEAN PERCEPTION -   |\n",
      "                   |                           |\n",
      "  @@@@      @      | University of Southampton |\n",
      " @@@@@@   @@@@     |___________________________|\n",
      "  @@@@   @@@@@@                                 \n",
      "                                                \n",
      " Copyright (C) 2019 University of Southampton   \n",
      " This program comes with ABSOLUTELY NO WARRANTY.\n",
      " This is free software, and you are welcome to  \n",
      " redistribute it.                               \n",
      "                                                \n",
      "\u001b[94m[INFO]: \u001b[0mRunning auv_nav version 0.0.3.0\n",
      "\u001b[94m[INFO]: \u001b[0mLoading mission.yaml at /data/dives/raw/year/cruise/platform/YYYYMMDD_hhmmss_platform_sensor_data/mission.yaml\n",
      "\u001b[91m[ERROR]: \u001b[0mThe file mission.yaml could not be found at the location:\n",
      "\u001b[91m[ERROR]: \u001b[0m/data/dives/raw/year/cruise/platform/YYYYMMDD_hhmmss_platform_sensor_data/mission.yaml\n",
      "\n",
      "\n",
      "\u001b[91m[****]: \u001b[0mExitting auv_nav.\n",
      "\u001b[91m[****]: \u001b[0mReason: mission.yaml not provided\n"
     ]
    }
   ],
   "source": [
    "%%bash --no-raise-error -s $dive_path\n",
    "auv_nav parse $1"
   ]
  },
  {
   "cell_type": "markdown",
   "metadata": {},
   "source": [
    "When finished, the parse step will write a `nav_standard.json` file with all the sensor measurements ordered in time and two HTML plots. Run the next cell to have a look at the sensor timestamps and to an informative table about the number of sensor measurements parsed."
   ]
  },
  {
   "cell_type": "code",
   "execution_count": 12,
   "metadata": {},
   "outputs": [
    {
     "data": {
      "text/plain": [
       "''"
      ]
     },
     "execution_count": 12,
     "metadata": {},
     "output_type": "execute_result"
    }
   ],
   "source": [
    "from auv_nav.tools.folder_structure import get_processed_folder\n",
    "from auv_nav.parse_data import check_output_files_exist\n",
    "\n",
    "processed_dive_path = get_processed_folder(dive_path)\n",
    "data_plot_file = processed_dive_path / 'nav' / 'json_data_info.html'\n",
    "history_plot_file = processed_dive_path / 'nav' / 'timestamp_history.html'\n",
    "check_output_files_exist(processed_dive_path)"
   ]
  },
  {
   "cell_type": "code",
   "execution_count": null,
   "metadata": {},
   "outputs": [],
   "source": [
    "from IPython.display import IFrame\n",
    "IFrame(filename=str(data_plot_file))"
   ]
  },
  {
   "cell_type": "code",
   "execution_count": null,
   "metadata": {},
   "outputs": [],
   "source": [
    "IFrame(filename=str(history_plot_file))"
   ]
  },
  {
   "cell_type": "markdown",
   "metadata": {},
   "source": [
    "## Processing the navigation\n",
    "As you can see in the previous graphs,\n",
    "\n",
    "Now, to process the navigation it is the same workflow, but with process instead of parse. Run the following cell:\n",
    "\n",
    "<div class=\"alert alert-warning\">\n",
    "<b>Note:</b> If you call this script on a dive that has already been processed, it will not overwrite the files unless you provide it the flag <b>-F</b>\n",
    "</div>"
   ]
  },
  {
   "cell_type": "code",
   "execution_count": 17,
   "metadata": {},
   "outputs": [
    {
     "name": "stdout",
     "output_type": "stream",
     "text": [
      "  @@@@    @@@@      ___________________________ \n",
      " @@@@@@  @@@@@@    |                           |\n",
      "  @@@@    @@@@     |    - OCEAN PERCEPTION -   |\n",
      "                   |                           |\n",
      "  @@@@      @      | University of Southampton |\n",
      " @@@@@@   @@@@     |___________________________|\n",
      "  @@@@   @@@@@@                                 \n",
      "                                                \n",
      " Copyright (C) 2019 University of Southampton   \n",
      " This program comes with ABSOLUTELY NO WARRANTY.\n",
      " This is free software, and you are welcome to  \n",
      " redistribute it.                               \n",
      "                                                \n",
      "\u001b[94m[INFO]: \u001b[0mRunning auv_nav version 0.0.3.0\n",
      "\u001b[91m[ERROR]: \u001b[0mThe dive folder supplied does not contain any mission or vehicle YAML files. Is the path correct?\n",
      "\n",
      "\n",
      "\u001b[91m[****]: \u001b[0mExitting auv_nav.\n",
      "\u001b[91m[****]: \u001b[0mReason: Invalid path\n"
     ]
    }
   ],
   "source": [
    "%%bash --no-raise-error -s $dive_path\n",
    "auv_nav process $1"
   ]
  },
  {
   "cell_type": "markdown",
   "metadata": {},
   "source": [
    "## Exploring the outputs"
   ]
  },
  {
   "cell_type": "code",
   "execution_count": null,
   "metadata": {},
   "outputs": [],
   "source": [
    "from auv_nav.tools.displayable_path import DisplayablePath\n",
    "DisplayablePath.show_tree(processed_dive_path)"
   ]
  },
  {
   "cell_type": "markdown",
   "metadata": {},
   "source": [
    "### Interactive HTML graphs"
   ]
  },
  {
   "cell_type": "code",
   "execution_count": 18,
   "metadata": {},
   "outputs": [
    {
     "ename": "TypeError",
     "evalue": "unsupported operand type(s) for /: 'generator' and 'str'",
     "output_type": "error",
     "traceback": [
      "\u001b[0;31m----------------------------------------------------------------------\u001b[0m",
      "\u001b[0;31mTypeError\u001b[0m                            Traceback (most recent call last)",
      "\u001b[0;32m<ipython-input-18-353a03dfcf93>\u001b[0m in \u001b[0;36m<module>\u001b[0;34m\u001b[0m\n\u001b[1;32m      2\u001b[0m \u001b[0mrenav_path\u001b[0m \u001b[0;34m=\u001b[0m \u001b[0mPath\u001b[0m\u001b[0;34m(\u001b[0m\u001b[0mprocessed_dive_path\u001b[0m\u001b[0;34m)\u001b[0m\u001b[0;34m.\u001b[0m\u001b[0mglob\u001b[0m\u001b[0;34m(\u001b[0m\u001b[0;34m'/json_renav_*'\u001b[0m\u001b[0;34m)\u001b[0m\u001b[0;34m\u001b[0m\u001b[0;34m\u001b[0m\u001b[0m\n\u001b[1;32m      3\u001b[0m \u001b[0;34m\u001b[0m\u001b[0m\n\u001b[0;32m----> 4\u001b[0;31m \u001b[0mnav_2d\u001b[0m \u001b[0;34m=\u001b[0m \u001b[0mrenav_path\u001b[0m \u001b[0;34m/\u001b[0m \u001b[0;34m'html'\u001b[0m \u001b[0;34m/\u001b[0m \u001b[0;34m'auv_path.html'\u001b[0m\u001b[0;34m\u001b[0m\u001b[0;34m\u001b[0m\u001b[0m\n\u001b[0m\u001b[1;32m      5\u001b[0m \u001b[0mIFrame\u001b[0m\u001b[0;34m(\u001b[0m\u001b[0mfilename\u001b[0m\u001b[0;34m=\u001b[0m\u001b[0mstr\u001b[0m\u001b[0;34m(\u001b[0m\u001b[0mnav_2d\u001b[0m\u001b[0;34m)\u001b[0m\u001b[0;34m)\u001b[0m\u001b[0;34m\u001b[0m\u001b[0;34m\u001b[0m\u001b[0m\n",
      "\u001b[0;31mTypeError\u001b[0m: unsupported operand type(s) for /: 'generator' and 'str'"
     ]
    }
   ],
   "source": [
    "from pathlib import Path\n",
    "renav_path = Path(processed_dive_path).glob('/json_renav_*')\n",
    "\n",
    "nav_2d = renav_path / 'html' / 'auv_path.html'\n",
    "IFrame(filename=str(nav_2d))"
   ]
  },
  {
   "cell_type": "code",
   "execution_count": 19,
   "metadata": {},
   "outputs": [
    {
     "ename": "TypeError",
     "evalue": "unsupported operand type(s) for /: 'generator' and 'str'",
     "output_type": "error",
     "traceback": [
      "\u001b[0;31m----------------------------------------------------------------------\u001b[0m",
      "\u001b[0;31mTypeError\u001b[0m                            Traceback (most recent call last)",
      "\u001b[0;32m<ipython-input-19-05a3f1be1a39>\u001b[0m in \u001b[0;36m<module>\u001b[0;34m\u001b[0m\n\u001b[0;32m----> 1\u001b[0;31m \u001b[0mdr_vs_time\u001b[0m \u001b[0;34m=\u001b[0m \u001b[0mrenav_path\u001b[0m \u001b[0;34m/\u001b[0m \u001b[0;34m'html'\u001b[0m \u001b[0;34m/\u001b[0m \u001b[0;34m'deadreckoning_vs_time.html'\u001b[0m\u001b[0;34m\u001b[0m\u001b[0;34m\u001b[0m\u001b[0m\n\u001b[0m\u001b[1;32m      2\u001b[0m \u001b[0mIFrame\u001b[0m\u001b[0;34m(\u001b[0m\u001b[0mfilename\u001b[0m\u001b[0;34m=\u001b[0m\u001b[0mstr\u001b[0m\u001b[0;34m(\u001b[0m\u001b[0mdr_vs_time\u001b[0m\u001b[0;34m)\u001b[0m\u001b[0;34m)\u001b[0m\u001b[0;34m\u001b[0m\u001b[0;34m\u001b[0m\u001b[0m\n",
      "\u001b[0;31mTypeError\u001b[0m: unsupported operand type(s) for /: 'generator' and 'str'"
     ]
    }
   ],
   "source": [
    "dr_vs_time = renav_path / 'html' / 'deadreckoning_vs_time.html'\n",
    "IFrame(filename=str(dr_vs_time))"
   ]
  },
  {
   "cell_type": "markdown",
   "metadata": {},
   "source": [
    "### Navigation CSV files"
   ]
  },
  {
   "cell_type": "code",
   "execution_count": null,
   "metadata": {},
   "outputs": [],
   "source": [
    "import pandas as pd\n",
    "auv_centre_dr = renav_path / 'csv' / 'dr' / 'auv_centre.csvl'\n",
    "df = pd.read_csv(str(auv_centre_dr))\n",
    "print(df)"
   ]
  }
 ],
 "metadata": {
  "kernelspec": {
   "display_name": "Python 3",
   "language": "python",
   "name": "python3"
  },
  "language_info": {
   "codemirror_mode": {
    "name": "ipython",
    "version": 3
   },
   "file_extension": ".py",
   "mimetype": "text/x-python",
   "name": "python",
   "nbconvert_exporter": "python",
   "pygments_lexer": "ipython3",
   "version": "3.6.9"
  }
 },
 "nbformat": 4,
 "nbformat_minor": 2
}
